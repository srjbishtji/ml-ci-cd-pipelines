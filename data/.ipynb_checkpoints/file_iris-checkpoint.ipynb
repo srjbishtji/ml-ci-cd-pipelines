{
 "cells": [
  {
   "cell_type": "code",
   "execution_count": 10,
   "id": "8da22677-31f6-42e0-a3bf-aa7bb419cbff",
   "metadata": {},
   "outputs": [],
   "source": [
    "# Generate iris.csv\n",
    "import pandas as pd\n",
    "from sklearn.datasets import load_iris"
   ]
  },
  {
   "cell_type": "code",
   "execution_count": 11,
   "id": "f0c1f368-56f4-415f-940b-89363d0f6436",
   "metadata": {},
   "outputs": [],
   "source": [
    "# Load Iris dataset\n",
    "iris = load_iris()\n",
    "df = pd.DataFrame(data=iris.data, columns = iris.feature_names)\n",
    "df[\"species\"] = iris.target"
   ]
  },
  {
   "cell_type": "code",
   "execution_count": 12,
   "id": "8b35de6b-2932-4098-9b0a-6c477d8eaf13",
   "metadata": {},
   "outputs": [],
   "source": [
    "# save to csv\n",
    "df.to_csv(\"/home/surajbisht/Desktop/ml-ci-cd-pipeline/data/iris.csv\", index=False)"
   ]
  }
 ],
 "metadata": {
  "kernelspec": {
   "display_name": "Python 3 (ipykernel)",
   "language": "python",
   "name": "python3"
  },
  "language_info": {
   "codemirror_mode": {
    "name": "ipython",
    "version": 3
   },
   "file_extension": ".py",
   "mimetype": "text/x-python",
   "name": "python",
   "nbconvert_exporter": "python",
   "pygments_lexer": "ipython3",
   "version": "3.11.7"
  }
 },
 "nbformat": 4,
 "nbformat_minor": 5
}
